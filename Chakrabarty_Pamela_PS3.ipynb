{
 "cells": [
  {
   "cell_type": "markdown",
   "metadata": {},
   "source": [
    "# Problem Set 3, due February 10 at 11:59am (i.e., noon).\n",
    "\n",
    "###Before You Start\n",
    "\n",
    "Make sure the following libraries load correctly (hit Ctrl-Enter). Note that while you are loading several powerful libraries, including machine learning libraries, the goal of this problem set is to implement several algorithms from scratch. In particular, you should *not* be using any built-in libraries for nearest neighbors, distance metrics, or cross-validation -- your mission is to write those algorithms in Python! Parts 1 and 2 will be relatively easy; Part 3 will take more time.\n",
    "\n",
    "*Also note:* For this assignment we are requiring you to use base **matplotlib** - no more Seaborn or other packages. This will help you become familiar with techniques for maintaining fine-grained control over your data visualizations. It will also help our graders, who spent countless hours trying to make various versions import for grading."
   ]
  },
  {
   "cell_type": "code",
   "execution_count": 62,
   "metadata": {
    "collapsed": false
   },
   "outputs": [],
   "source": [
    "# Importing relevant libraries\n",
    "import IPython\n",
    "import numpy as np\n",
    "import scipy as sp\n",
    "import pandas as pd\n",
    "import matplotlib.pyplot as plt  \n",
    "import sklearn as sk\n",
    "import operator"
   ]
  },
  {
   "cell_type": "markdown",
   "metadata": {},
   "source": [
    "---\n",
    "\n",
    "## Introduction to the assignment\n",
    "\n",
    "For this assignment, you will be using the [Boston Housing Prices Data Set](http://archive.ics.uci.edu/ml/datasets/Housing).  Please read about the dataset carefully before continuing.  Use the following commands to load the dataset:\n"
   ]
  },
  {
   "cell_type": "code",
   "execution_count": 11,
   "metadata": {
    "collapsed": false
   },
   "outputs": [],
   "source": [
    "from sklearn.datasets import load_boston\n",
    "# Loading the boston dataset\n",
    "bdata = load_boston()"
   ]
  },
  {
   "cell_type": "markdown",
   "metadata": {},
   "source": [
    "The following commands will provide some basic information about the shape of the data:"
   ]
  },
  {
   "cell_type": "code",
   "execution_count": 14,
   "metadata": {
    "collapsed": false,
    "scrolled": true
   },
   "outputs": [
    {
     "name": "stdout",
     "output_type": "stream",
     "text": [
      "<built-in method keys of Bunch object at 0x00000186BA334B38>\n",
      "['CRIM' 'ZN' 'INDUS' 'CHAS' 'NOX' 'RM' 'AGE' 'DIS' 'RAD' 'TAX' 'PTRATIO'\n",
      " 'B' 'LSTAT']\n",
      "(506, 13)\n",
      "(506,)\n",
      "<class 'sklearn.datasets.base.Bunch'>\n"
     ]
    }
   ],
   "source": [
    "# Printing basic information on the dataset  \n",
    "print (bdata.keys)\n",
    "print (bdata.feature_names)\n",
    "print (bdata.data.shape)\n",
    "print (bdata.target.shape)\n",
    "print (type(bdata))"
   ]
  },
  {
   "cell_type": "code",
   "execution_count": 15,
   "metadata": {
    "collapsed": true
   },
   "outputs": [],
   "source": [
    "# Transforming datset into a dataframe  leave\n",
    "df = pd.DataFrame(bdata.data)\n",
    "df['13'] = bdata.target\n",
    "df.columns = ['crim','zn','indus','chas','nox','rm','age','dis','rad','tax','ptratio','b','lstat','medv']"
   ]
  },
  {
   "cell_type": "markdown",
   "metadata": {},
   "source": [
    "---\n",
    "\n",
    "##Part 1: Descriptive analysis\n",
    "\n",
    "Before beginning the \"real\" work, dig into the data a bit do see what you're dealing with.  If you're new to analyzing data in Python, please make sure to read the relevant readings linked to on Canvas before beginning (for instance, [this one](https://github.com/jrjohansson/scientific-python-lectures)).\n",
    "\n",
    "###1.1: Histogram of housing prices\n",
    "\n",
    "Below you will find some very basic code to make a very basic histogram of median housing prices (the \"target\" variable) for your dataset.  Your first task is to make this graph look pretty by doing the following:\n",
    "\n",
    "1. Add appropriate labels to the x and y axes, make sure to include units\n",
    "2. Change the bin width on the histogram to be $1000\n",
    "3. Remove the axes on the top and right side of the plot window\n",
    "4. Change the color of the bars to be green, and remove the black borders from the bars\n"
   ]
  },
  {
   "cell_type": "code",
   "execution_count": 16,
   "metadata": {
    "collapsed": false,
    "scrolled": true
   },
   "outputs": [
    {
     "data": {
      "image/png": "[encoded data removed]",
      "text/plain": [
       "<matplotlib.figure.Figure at 0x186ba351860>"
      ]
     },
     "metadata": {},
     "output_type": "display_data"
    }
   ],
   "source": [
    "#importing the matplotlib library and plotting inline     \n",
    "%matplotlib inline  \n",
    "import matplotlib.pyplot as plt\n",
    "plt.style.use('ggplot')\n",
    "\n",
    "# # Setting figure size\n",
    "plt.figure(figsize=(15,5))\n",
    "#Creating the histogram\n",
    "plt.hist(df.medv, bins=45, color='g', edgecolor = 'white')\n",
    "#Defining lables\n",
    "plt.xlabel('Median Value of Houses in $1000s')   \n",
    "plt.ylabel('Count of Houses')\n",
    "plt.show()"
   ]
  },
  {
   "cell_type": "markdown",
   "metadata": {},
   "source": [
    "###1.2: Scatter plot of housing prices and crime\n",
    "\n",
    "Use matplotlib to create a scatter plot that shows the relationship between the median value of the home (y-axis) and the per-capita crime rate (x-axis).  Properly label your axes, and make sure that your graphic looks polished and professional.\n"
   ]
  },
  {
   "cell_type": "code",
   "execution_count": 18,
   "metadata": {
    "collapsed": false,
    "scrolled": true
   },
   "outputs": [
    {
     "data": {
      "image/png": "[encoded data removed]",
      "text/plain": [
       "<matplotlib.figure.Figure at 0x186ba351940>"
      ]
     },
     "metadata": {},
     "output_type": "display_data"
    }
   ],
   "source": [
    "# For plotting inline\n",
    "%matplotlib inline  \n",
    "# Setting figure size\n",
    "plt.figure(figsize=(15,5))\n",
    "# Creating scatterplot\n",
    "plt.scatter(df.crim,df.medv,color='r')\n",
    "plt.xlim(-1,100)\n",
    "# Defining labels\n",
    "plt.ylabel('Median Housing Value')\n",
    "plt.xlabel('Per Capita Crime Rate')\n",
    "plt.title('Scatter Plot of Median Housing value Vs per capita crime rate')\n",
    "plt.show()"
   ]
  },
  {
   "cell_type": "markdown",
   "metadata": {},
   "source": [
    "###1.3 Create your own (creative and effective) visualization\n",
    "\n",
    "Use another type of graph or chart to illustrate an interesting pattern in the data.  Be creative in your visualization, and make sure to produce a \"publication-quality\" graph.  Points will be given for useful and creative graphs; points will be deducted for confusing issues like unlabeled axes.  If you're new to data visualization, [this guide](http://pubs.aeaweb.org/doi/pdfplus/10.1257/jep.28.1.209) is a good place to start."
   ]
  },
  {
   "cell_type": "code",
   "execution_count": 19,
   "metadata": {
    "collapsed": false,
    "scrolled": true
   },
   "outputs": [
    {
     "data": {
      "image/png": "[encoded data removed]",
      "text/plain": [
       "<matplotlib.figure.Figure at 0x186ba8466a0>"
      ]
     },
     "metadata": {},
     "output_type": "display_data"
    }
   ],
   "source": [
    "# For plotting inline\n",
    "%matplotlib inline \n",
    "# Setting figure size\n",
    "plt.figure(figsize=(15,5))\n",
    "# Creating scatterplot\n",
    "plt.scatter(df.rm,df.medv,color='g',edgecolor='black', alpha = 0.5)\n",
    "# Defining labels\n",
    "plt.title(\"Relationship between Median Housing Value(medv) and Average number of Rooms(rm)\")\n",
    "plt.xlabel(\"Median Housing Value\")\n",
    "plt.ylabel(\"Average number of Rooms\")\n",
    "plt.show()"
   ]
  },
  {
   "cell_type": "markdown",
   "metadata": {},
   "source": [
    "---\n",
    "\n",
    "##Part 2: Experimental Setup\n",
    "\n",
    "The goal of the next few sections is to design an experiment to predict the median home value for an instance in the data.\n",
    "\n",
    "###2.1 Begin by writing a function to compute the Root Mean Squared Error for a list of numbers\n",
    "\n",
    "You can find the sqrt function in the Numpy package. Furthermore the details of RMSE can be found on [Wikipedia](http://en.wikipedia.org/wiki/Root-mean-square_deviation)\n",
    "\n"
   ]
  },
  {
   "cell_type": "code",
   "execution_count": 63,
   "metadata": {
    "collapsed": false
   },
   "outputs": [],
   "source": [
    "\"\"\"\n",
    "Function\n",
    "--------\n",
    "compute_rmse\n",
    "\n",
    "Given two arrays, one of actual values and one of predicted values,\n",
    "compute the Roote Mean Squared Error\n",
    "\n",
    "Parameters\n",
    "----------\n",
    "predictions : array\n",
    "    Array of numerical values corresponding to predictions for each of the N observations\n",
    "\n",
    "yvalues : array\n",
    "    Array of numerical values corresponding to the actual values for each of the N observations\n",
    "\n",
    "Returns\n",
    "-------\n",
    "rmse : int\n",
    "    Root Mean Squared Error of the prediction\n",
    "\n",
    "Example\n",
    "-------\n",
    ">>> print compute_rmse((2,2,3),(0,2,6)\n",
    "2.16\n",
    "\"\"\"\n",
    "    \n",
    "def compute_rmse(predictions, yvalues):\n",
    "# initialising rmse as zero\n",
    "    rmse = 0 \n",
    "# finding the square of the differences\n",
    "    error_sq = (predictions - yvalues)**2\n",
    "    error_sq = error_sq.sum()\n",
    "# computing rmse\n",
    "    rmse = np.sqrt(error_sq/float(len(predictions)))\n",
    "    return rmse"
   ]
  },
  {
   "cell_type": "code",
   "execution_count": 64,
   "metadata": {
    "collapsed": false,
    "scrolled": true
   },
   "outputs": [
    {
     "name": "stdout",
     "output_type": "stream",
     "text": [
      "2.08166599947\n"
     ]
    }
   ],
   "source": [
    "# computing rmse as given in the example    \n",
    "print (compute_rmse(np.array([2,2,3]), np.array([0,2,6])))"
   ]
  },
  {
   "cell_type": "markdown",
   "metadata": {},
   "source": [
    "###2.2 Divide your data into training and testing datasets\n",
    "\n",
    "Randomly select 66% of the data and put this in a training dataset (call this \"bdata_train\"), and place the remaining 34% in a testing dataset (call this \"bdata_test\")\n"
   ]
  },
  {
   "cell_type": "code",
   "execution_count": 22,
   "metadata": {
    "collapsed": false
   },
   "outputs": [],
   "source": [
    "# leave the following line untouched, it will help ensure that your \"random\" \n",
    "# split is the same \"random\" split used by the rest of the class\n",
    "np.random.seed(seed=13579)\n",
    "# Spliiting 66% of the boston dataset for training data\n",
    "train_prop = int(round(0.66*len(df.index)))\n",
    "# Randomly selecting 66% of the data for training \n",
    "bdata_train = df.sample(n=train_prop,random_state=13579)\n",
    "# setting indexes not in training datset\n",
    "b = set(bdata_train.index)\n",
    "d = set(df.index)\n",
    "a = d.difference(b)\n",
    "# making test dataset\n",
    "bdata_test = df.ix[a,:]"
   ]
  },
  {
   "cell_type": "markdown",
   "metadata": {},
   "source": [
    "###2.3 Use a very bad baseline for prediction, and compute RMSE\n",
    "\n",
    "Create a model that predicts, for every observation x_i, that the median home value is the average (mean) of the median values for all instances in the training set.  Compute the RMSE on the training set.  Now compute the RMSE on the test data set (but use the model you trained on the training set!).  How does RMSE compare for training vs. testing datasets? Is this what you expected, and why?"
   ]
  },
  {
   "cell_type": "code",
   "execution_count": 23,
   "metadata": {
    "collapsed": false
   },
   "outputs": [
    {
     "name": "stdout",
     "output_type": "stream",
     "text": [
      "8.57443441541\n",
      "10.3092622563\n"
     ]
    }
   ],
   "source": [
    "# getting predicted values based on mean of training data\n",
    "pred_train = np.empty(len(bdata_train.index))\n",
    "pred_train.fill(bdata_train.medv.mean())\n",
    "# getting training rmse between predicted values and actual values from training data\n",
    "train_rmse = compute_rmse(pred_train,bdata_train.medv)\n",
    "print (train_rmse)\n",
    "\n",
    "# getting predicted values based on mean of training data\n",
    "pred_test = np.empty(len(bdata_test.index))\n",
    "pred_test.fill(bdata_train.medv.mean())\n",
    "# getting test rmse of predicted values and actual values from testing data\n",
    "test_rmse = compute_rmse(pred_test,bdata_test.medv)\n",
    "print (test_rmse)"
   ]
  },
  {
   "cell_type": "markdown",
   "metadata": {},
   "source": [
    "Answer for 2.3:\n",
    "\n",
    "The training dataset's RMSE appears much better than that of test dataset. This is not surprising as we considered a very bad baseline and the model aims at predicting test dataset based on only train dataset which leads us to expect the test dataset to have a higher RMSE than train dataset"
   ]
  },
  {
   "cell_type": "markdown",
   "metadata": {},
   "source": [
    "---\n",
    "\n",
    "##Part 3: Nearest Neighbors\n"
   ]
  },
  {
   "cell_type": "markdown",
   "metadata": {},
   "source": [
    "###3.1 Nearest Neighbors: Distance function\n",
    "Let's try and build a machine learning algorithm to beat the \"Average Value\" baseline that you computed above.  Soon you will implement the Nearest Neighbor algorithm, but first you need to create a distance metric to measure the distance (and similarity) between two instances.  Write a generic function to compute the L-Norm distance (called the [*p*-norm](http://en.wikipedia.org/wiki/Norm_(mathematics) distance on Wikipedia). Verify that your function works by computing the Euclidean distance between the points (3,4) and (6,8)."
   ]
  },
  {
   "cell_type": "code",
   "execution_count": 61,
   "metadata": {
    "collapsed": false,
    "scrolled": true
   },
   "outputs": [
    {
     "ename": "SyntaxError",
     "evalue": "invalid syntax (<ipython-input-61-4b44179a7261>, line 12)",
     "output_type": "error",
     "traceback": [
      "\u001b[0;36m  File \u001b[0;32m\"<ipython-input-61-4b44179a7261>\"\u001b[0;36m, line \u001b[0;32m12\u001b[0m\n\u001b[0;31m    print distance((3,4),(6,8),2)\u001b[0m\n\u001b[0m                 ^\u001b[0m\n\u001b[0;31mSyntaxError\u001b[0m\u001b[0;31m:\u001b[0m invalid syntax\n"
     ]
    }
   ],
   "source": [
    "\"\"\"\n",
    "Function\n",
    "--------\n",
    "distance\n",
    "\n",
    "Given two instances and a value for L, return the L-Norm distance between them\n",
    "\n",
    "Parameters\n",
    "----------\n",
    "x1, x2 : array\n",
    "    Array of numerical values corresponding to predictions for each of the N observations\n",
    "\n",
    "L: int\n",
    "    Value of L to use in computing distances\n",
    "\n",
    "Returns\n",
    "-------\n",
    "dist : int\n",
    "    The L-norm distance between instances\n",
    "\n",
    "Example\n",
    "-------\n",
    ">>> print distance((3,4),(6,8),2)\n",
    "7\n",
    "\n",
    "\"\"\"\n",
    "def distance(x1, x2, L):\n",
    "#computing distance    \n",
    "    dist = x1-x2\n",
    "    sqr = dist**L\n",
    "    final = sqr.sum(axis = 1)\n",
    "    #printing final \n",
    "    return np.array(pow(final,1/float(L)))\n",
    "\n",
    "# Using instances to try function\n",
    "print distance((3,4),(6,8),2)\n",
    "print distance((3,4,5),(6,8,3),2)"
   ]
  },
  {
   "cell_type": "markdown",
   "metadata": {},
   "source": [
    "###3.2 Basic Nearest Neighbor algorithm\n",
    "\n",
    "Now things get fun.  Your task is to implement a basic nearest neighbor algorithm from scratch.  Your simple model will use two input features (CRIM and RM) and a single output (MEDV).  In other words, you are modelling the relationship between median home value and crime rates and house size.\n",
    "\n",
    "Use your training data (bdata_train) to \"fit\" your model, although as you know, with Nearest Neighbors there is no real training, you just need to keep your training data in memory.  Write a function that predicts, for each instance in the testing data (bdata_test), the median home value using the nearest neighbor algorithm we discussed in class.  Since this is a small dataset, you can simply compare your test instance to every instance in the training set, and return the MEDV value of the closest training instance.  Have your function take L as an input, where L is passed to the distance function.\n",
    "\n",
    "Compute the RMSE for the Nearest Neighbor predictions on the test set, using the Euclidean distance.  Report an estimate of the total time taken by your code to predict the nearest neighbors for all the values in the test data set."
   ]
  },
  {
   "cell_type": "code",
   "execution_count": 40,
   "metadata": {
    "collapsed": false
   },
   "outputs": [
    {
     "ename": "SyntaxError",
     "evalue": "Missing parentheses in call to 'print' (<ipython-input-40-f4d351aa04c8>, line 31)",
     "output_type": "error",
     "traceback": [
      "\u001b[0;36m  File \u001b[0;32m\"<ipython-input-40-f4d351aa04c8>\"\u001b[0;36m, line \u001b[0;32m31\u001b[0m\n\u001b[0;31m    print \"Rmse for nearest neighbor predictions-\",nn\u001b[0m\n\u001b[0m                                                 ^\u001b[0m\n\u001b[0;31mSyntaxError\u001b[0m\u001b[0;31m:\u001b[0m Missing parentheses in call to 'print'\n"
     ]
    }
   ],
   "source": [
    "\"\"\"\n",
    "# write your function specification here!\n",
    "\"\"\"\n",
    "import time\n",
    "def nneighbor(train,test,features,L):\n",
    "    # starting time \n",
    "    start_time = time.time()\n",
    "    # initialising rmse to zero\n",
    "    rmse = 0\n",
    "    # creating a dataframe to store distance matrix \n",
    "    dist_df = pd.DataFrame(index=test.index,columns=train.index)    \n",
    "    # Starting a loop to calculate distance between every train and test datapoint in train \n",
    "    for i,rowi in test.iterrows():       \n",
    "        for j,rowj in train.iterrows():            \n",
    "            dist_df.ix[i,j] = distance(list(rowi[features]),list(rowj[features]),L) \n",
    "    # creating a dataframe to store the neighbor             \n",
    "    min_arr = pd.DataFrame(index=test.index,columns=['neighbor']) \n",
    "    # Creating a loop to calculate minimum distance as the neighbor\n",
    "    for i,row in dist_df.iterrows():       \n",
    "        min_arr.ix[i,'neighbor'] = row.idxmin()\n",
    "    # getting predicted and actual values         \n",
    "    y_est = train.ix[list(min_arr.ix[:,'neighbor']),'medv'].copy()\n",
    "    y_true = test.medv.copy()\n",
    "    # finding rmse on predicted and actual values\n",
    "    rmse = compute_rmse(np.array(y_est),np.array(y_true))\n",
    "    # printing time taken by algorithm\n",
    "    print (\"Time taken is: \" + str(round(time.time() - start_time,2)) + \" seconds\")  \n",
    "    return rmse\n",
    "# finding nearest neighbor for train and test data based on features crim and rm with L as 2\n",
    "nn = nneighbor(bdata_train,bdata_test,[0,5],2)\n",
    "print \"Rmse for nearest neighbor predictions-\",nn"
   ]
  },
  {
   "cell_type": "markdown",
   "metadata": {},
   "source": [
    "###3.3 Results and Normalization\n",
    "\n",
    "If you were being astute, you would have noticed that we never normalized our features -- a big no-no with Nearest Neighbor algorithms.  Write a generic normalization function that takes as input an array of values for a given feature, and returns the normalized array (subtract the mean and divide by the standard deviation).\n",
    "\n",
    "Re-run the Nearest Neighbor algorithm on the normalized dataset (still just using CRIM and RM as input), and compare the RMSE from this method with your previous RMSE evaluations.\n",
    "\n",
    "*NOTE*: To normalize properly, best practice is to compute the mean and standard deviation on the training set, and use these values to normalize the testing dataset. However, for this problem set, it is okay if you separately normalize each dataset using the respective mean and standard deviation."
   ]
  },
  {
   "cell_type": "code",
   "execution_count": 44,
   "metadata": {
    "collapsed": false
   },
   "outputs": [
    {
     "ename": "SyntaxError",
     "evalue": "Missing parentheses in call to 'print' (<ipython-input-44-7ae471a815bf>, line 27)",
     "output_type": "error",
     "traceback": [
      "\u001b[0;36m  File \u001b[0;32m\"<ipython-input-44-7ae471a815bf>\"\u001b[0;36m, line \u001b[0;32m27\u001b[0m\n\u001b[0;31m    print \"Rmse for nearest neighbor predictions on normalized data \",n2\u001b[0m\n\u001b[0m                                                                    ^\u001b[0m\n\u001b[0;31mSyntaxError\u001b[0m\u001b[0;31m:\u001b[0m Missing parentheses in call to 'print'\n"
     ]
    }
   ],
   "source": [
    "\"\"\"\n",
    "# write your function specification here!\n",
    "\"\"\"\n",
    "def normalize(raw_data):\n",
    "    # calculating mean and standard deviation\n",
    "    avg = raw_data.mean()\n",
    "    sd = np.std(raw_data)\n",
    "    # using series to store the normalized data\n",
    "    normalized_data = pd.Series(index=raw_data.index)    \n",
    "    # starting a loop for converting raw data to normalized data\n",
    "    for i,value in raw_data.iteritems():  \n",
    "        # subtracting the mean and then dividing the standard deviation for each value\n",
    "        x = (value - avg)/sd\n",
    "        normalized_data = normalized_data.set_value(i, x)\n",
    "    return normalized_data\n",
    "\n",
    "# creating dataframes to store the normalized train and test dataset\n",
    "n_train = bdata_train.copy(deep=True)\n",
    "n_test = bdata_test.copy(deep=True)\n",
    "# starting a loop through each column of train and test dataset\n",
    "for i in n_train.columns:\n",
    "    n_train.ix[:,i] = normalize(n_train.ix[:,i])\n",
    "for i in n_test.columns:\n",
    "    n_test.ix[:,i] = normalize(n_test.ix[:,i])    \n",
    "# finding rmse for normalized data using nearest neighbor algorithm    \n",
    "n2 = nneighbor(n_train,n_test,[0,5],2)\n",
    "print \"Rmse for nearest neighbor predictions on normalized data \",n2"
   ]
  },
  {
   "cell_type": "markdown",
   "metadata": {},
   "source": [
    "###3.4 Optimization\n",
    "\n",
    "A lot of the decisions we've made so far have been arbitrary.  Try to increase the performance of your nearest neighbor algorithm by adding features that you think might be relevant, and by using different values of L in the distance function.  Try a model that uses a different set of 2 features, then try at least one model that uses more than 4 features, then try using a different value of L.  If you're having fun, try a few different combinations of features and L!\n",
    "\n",
    "What combination of features and distance function provide the lowest RMSE?  Do your decisions affect the running time of the algorithm?"
   ]
  },
  {
   "cell_type": "code",
   "execution_count": 50,
   "metadata": {
    "collapsed": false
   },
   "outputs": [
    {
     "ename": "SyntaxError",
     "evalue": "Missing parentheses in call to 'print' (<ipython-input-50-2288ef3cdfb5>, line 15)",
     "output_type": "error",
     "traceback": [
      "\u001b[0;36m  File \u001b[0;32m\"<ipython-input-50-2288ef3cdfb5>\"\u001b[0;36m, line \u001b[0;32m15\u001b[0m\n\u001b[0;31m    print \"Rmse for crim and rm & L=16 -\",n8\u001b[0m\n\u001b[0m                                        ^\u001b[0m\n\u001b[0;31mSyntaxError\u001b[0m\u001b[0;31m:\u001b[0m Missing parentheses in call to 'print'\n"
     ]
    }
   ],
   "source": [
    "# Finding nearest neighbor for additional features\n",
    "n4 = nneighbor(n_train,n_test,[0,4,5,7,10],2)\n",
    "print (\"Rmse for features(crim,nox,rm,dis,ptratio) -\",n4)\n",
    "# Changing features\n",
    "n5 = nneighbor(n_train,n_test,[4,7],2)\n",
    "print (\"Rmse for nox and dis -\",n5)\n",
    "\n",
    "# Trying new values of L\n",
    "print (\"Rmse for crim and rm & L=2 -\",n2)\n",
    "n6 = nneighbor(n_train,n_test,[0,5],4)\n",
    "print (\"Rmse for crim and rm & L=4 -\",n6)\n",
    "n7 = nneighbor(n_train,n_test,[0,5],8)\n",
    "print (\"Rmse for crim and rm & L=8 -\",n7)\n",
    "n8 = nneighbor(n_train,n_test,[0,5],16)\n",
    "print \"Rmse for crim and rm & L=16 -\",n8"
   ]
  },
  {
   "cell_type": "markdown",
   "metadata": {},
   "source": [
    "### 3.5 Cross-Validation\n",
    "\n",
    "The more you tinkered with your features and distance function, the higher the risk that you overfit your training data.  To prevent this sort of overfitting, you need to use cross-validation (see K-fold [cross-validation](http://en.wikipedia.org/wiki/Cross-validation_(statistics)).  Here you must implement a simple k-fold cross-validation algorithm yourself.  The function you write here will be used several more times in this problem set, so do your best to write efficient code! (Note that the sklearn package has a built-in [K-fold](http://scikit-learn.org/stable/modules/cross_validation.html#cross-validation) iterator -- you should *not* be invoking that or any related algorithms in this section of the problem set.)\n",
    "\n",
    "Use 10-fold cross-validation and report the average RMSE for Nearest Neighbors using Euclidean distance with CRIM and RM input features, as well as the total running time for the full run of 10 folds.  In other words, randomly divide your dataset into 10 equally-sized samples, and for each of 10 iterations (the \"folds\"), use 9 samples as \"training data\" (even though there is no training in k-NN!), and the remaining 1 sample for testing.  Compute the RMSE of that particular test set, then move on to the next iteration.  Report the average RMSE across the 10 iterations."
   ]
  },
  {
   "cell_type": "code",
   "execution_count": 54,
   "metadata": {
    "collapsed": false
   },
   "outputs": [
    {
     "ename": "SyntaxError",
     "evalue": "Missing parentheses in call to 'print' (<ipython-input-54-1b607c51a492>, line 72)",
     "output_type": "error",
     "traceback": [
      "\u001b[0;36m  File \u001b[0;32m\"<ipython-input-54-1b607c51a492>\"\u001b[0;36m, line \u001b[0;32m72\u001b[0m\n\u001b[0;31m    print \"Average rmse for 10-fold cross validation-\",res\u001b[0m\n\u001b[0m                                                     ^\u001b[0m\n\u001b[0;31mSyntaxError\u001b[0m\u001b[0;31m:\u001b[0m Missing parentheses in call to 'print'\n"
     ]
    }
   ],
   "source": [
    "\"\"\"\n",
    "Function\n",
    "--------\n",
    "cross_validation\n",
    "\n",
    "Given a data and kfold value, perform the k-fold cross validation on the data\n",
    "\n",
    "Parameters\n",
    "----------\n",
    "kfold : int\n",
    "    numeric value indicating the number of folds for cross validation\n",
    "\n",
    "data : Pandas DataFrame\n",
    "    DataFrame containing training dataset\n",
    "    \n",
    "Returns\n",
    "-------\n",
    "avg_rmse : int \n",
    "    The average rmse value across k-fold cross validation\n",
    "\n",
    "\"\"\"\n",
    "# enter your code here\n",
    "np.random.seed(seed=13579)\n",
    "def cross_validation(kfold,data):\n",
    "    start_time = time.time()    \n",
    "    # using series to store rmse for each fold\n",
    "    rmse = pd.Series(index=range(kfold))\n",
    "    # Finding the number of values in each subsample\n",
    "    n = (len(data))/kfold       \n",
    "        \n",
    "    d = data.copy()\n",
    "    # Selecting number of evenly divided rows within train and test dataset \n",
    "    d = data.head(n*kfold)    \n",
    "    # Creating a dataframe to store indexes for each subsample as a row    \n",
    "    subsamples = pd.DataFrame(index=range(kfold),columns=range(n))    \n",
    "    \n",
    "    ind = pd.Series(d.index.values.copy())    \n",
    "    # Randomly shuffling indexes\n",
    "    np.random.shuffle(ind)       \n",
    "    i=0   \n",
    "    rowi = 0\n",
    "    # Starting a loop to create each row as a subsample\n",
    "    while((i+n)<len(data)):\n",
    "        subsamples.iloc[rowi,:] = list(ind.iloc[i:(i+n)])\n",
    "        i = i+n\n",
    "        rowi = rowi+1         \n",
    "    \n",
    "    for i in range(kfold):\n",
    "        # selecting one of the subsample as test\n",
    "        test_ind = subsamples.iloc[i,:]       \n",
    "        # finding indexes that are not in test\n",
    "        b = set(test_ind)\n",
    "        c = set(d.index)\n",
    "        a = c.difference(b)\n",
    "        # creating the train and test dataset\n",
    "        train = d.ix[a,:].copy()\n",
    "        test = d.ix[b,:].copy()    \n",
    "        \n",
    "        # computing rmse using nearest neighbor\n",
    "        n = nneighbor(train,test,[0,5],2) \n",
    "        # storing rmse for each fold\n",
    "        rmse = rmse.set_value(i, n)  \n",
    "    \n",
    "    # finding average rmse across k-fold\n",
    "    avg_rmse = rmse.mean()\n",
    "    print (\"Total k-fold Time taken: \" + str(round(time.time() - start_time,2)) + \" seconds\")    \n",
    "    return avg_rmse\n",
    "    \n",
    "# finding rmse for 10-fold cross validation    \n",
    "res = cross_validation(10,n_train)\n",
    "print \"Average rmse for 10-fold cross validation-\",res"
   ]
  },
  {
   "cell_type": "markdown",
   "metadata": {},
   "source": [
    "###3.6 K-Nearest Neighbors Algorithm\n",
    "\n",
    "Implement the K-Nearest Neighbors algorithm.  Using 10-fold cross validation, report the RMSE for K=3 and the running time of the algorithm."
   ]
  },
  {
   "cell_type": "code",
   "execution_count": 65,
   "metadata": {
    "collapsed": false
   },
   "outputs": [
    {
     "ename": "SyntaxError",
     "evalue": "invalid syntax (<ipython-input-65-f67ca0ba9643>, line 56)",
     "output_type": "error",
     "traceback": [
      "\u001b[0;36m  File \u001b[0;32m\"<ipython-input-65-f67ca0ba9643>\"\u001b[0;36m, line \u001b[0;32m56\u001b[0m\n\u001b[0;31m    print \"Time taken: \" + str(round(time.time() - start_time,2)) + \" seconds\"\u001b[0m\n\u001b[0m                       ^\u001b[0m\n\u001b[0;31mSyntaxError\u001b[0m\u001b[0;31m:\u001b[0m invalid syntax\n"
     ]
    }
   ],
   "source": [
    "\"\"\"\n",
    "Function 1\n",
    "--------\n",
    "knn\n",
    "\n",
    "Given a training dataset, test dataset, input features, L and K, compute the rmse using K Nearest neighbor algorithm\n",
    "\n",
    "Parameters\n",
    "----------\n",
    "train : Pandas DataFrame\n",
    "    DataFrame containing the training data\n",
    "\n",
    "test : Pandas DataFrame\n",
    "    DataFrame containing the test data\n",
    "\n",
    "features : list\n",
    "    list of columns that are used as input features to fit the model\n",
    "\n",
    "L : int\n",
    "    numeric value that is used in calculating Euclidean distance\n",
    "    \n",
    "K : int\n",
    "    numeric value indicating the number of neighbors to use for modelling\n",
    "    \n",
    "Returns\n",
    "-------\n",
    "rmse : int \n",
    "    The average rmse value for K-nearest neighbor algorithm\n",
    "\n",
    "\"\"\"\n",
    "def knn(train,test,features,L,K):    \n",
    "    start_time = time.time()   \n",
    "    # initialising rmse to zero\n",
    "    rmse = 0                          \n",
    "    # creating a dataframe to store the distance matrix \n",
    "    dist_df = pd.DataFrame(index=test.index,columns=train.index)     \n",
    "    # starting a Loop to calculate the distance between every tarin and test dagtapoint\n",
    "    for i,rowi in test.iterrows():       \n",
    "        for j,rowj in train.iterrows():           \n",
    "            dist_df.ix[i,j] = distance(list(rowi[features]),list(rowj[features]),L)       \n",
    "            \n",
    "    # creating a dataframe to store K nearest neighbors\n",
    "    min_arr = pd.DataFrame(index=test.index,columns=range(K))  \n",
    "    y_est = pd.Series(index=test.index)\n",
    "    # starting loop to compute the K neighbors based on order of ascending distance \n",
    "    for i,row in dist_df.iterrows():    \n",
    "        r = row.sort_values()       \n",
    "        min_arr.ix[i,:] = pd.Series(r[:K].index)        \n",
    "    # starting a loop to find mean of K-nearest neighbors as predicted values\n",
    "    for i,row in min_arr.iterrows():      \n",
    "        y_est.ix[i] = train.ix[row,'medv'].mean()\n",
    "       \n",
    "    y_true = test.medv.copy()   \n",
    "    # finding rmse \n",
    "    rmse = compute_rmse(np.array(y_est),np.array(y_true))    \n",
    "    print \"Time taken: \" + str(round(time.time() - start_time,2)) + \" seconds\"      \n",
    "    return rmse"
   ]
  },
  {
   "cell_type": "code",
   "execution_count": 66,
   "metadata": {
    "collapsed": false
   },
   "outputs": [
    {
     "ename": "SyntaxError",
     "evalue": "invalid syntax (<ipython-input-66-9a36a2ed547e>, line 50)",
     "output_type": "error",
     "traceback": [
      "\u001b[0;36m  File \u001b[0;32m\"<ipython-input-66-9a36a2ed547e>\"\u001b[0;36m, line \u001b[0;32m50\u001b[0m\n\u001b[0;31m    print \"Total k-fold Time taken: \" + str(round(time.time() - start_time,2)) + \" seconds\"\u001b[0m\n\u001b[0m                                    ^\u001b[0m\n\u001b[0;31mSyntaxError\u001b[0m\u001b[0;31m:\u001b[0m invalid syntax\n"
     ]
    }
   ],
   "source": [
    "\"\"\"\n",
    "Function 2\n",
    "--------\n",
    "knn_cross_validation\n",
    "\n",
    "Given a data and kfold value, performing k-fold cross validation on the data\n",
    "\"\"\"\n",
    "def knn_cross_validation(kfold,data,features,L,K):\n",
    "    start_time = time.time()    \n",
    "    # using series to store rmse for each fold\n",
    "    rmse = pd.Series(index=range(kfold))\n",
    "    # Finding the number of values in each subsample\n",
    "    n = (len(data))/kfold       \n",
    "        \n",
    "    d = data.copy()\n",
    "    # Selecting rows that are evenly divided within train and test dataset \n",
    "    d = data.head(n*kfold)    \n",
    "    # creating a dataframe to store indexes for each subsample as a row    \n",
    "    subsamples = pd.DataFrame(index=range(kfold),columns=range(n))    \n",
    "    \n",
    "    ind = pd.Series(d.index.values.copy())    \n",
    "    # Randomly shuffling indexes\n",
    "    np.random.shuffle(ind)       \n",
    "    i=0   \n",
    "    rowi = 0\n",
    "    # starting a loop to create each row as a subsample\n",
    "    while((i+n)<len(data)):\n",
    "        subsamples.iloc[rowi,:] = list(ind.iloc[i:(i+n)])\n",
    "        i = i+n\n",
    "        rowi = rowi+1         \n",
    "    \n",
    "    for i in range(kfold):\n",
    "        # selecting one of the subsample as test\n",
    "        test_ind = subsamples.iloc[i,:]       \n",
    "        # finding indexes that are not in test\n",
    "        b = set(test_ind)\n",
    "        c = set(d.index)\n",
    "        a = c.difference(b)\n",
    "        # creating the train and test dataset\n",
    "        train = d.ix[a,:].copy()\n",
    "        test = d.ix[b,:].copy()    \n",
    "        \n",
    "        # finding rmse using K-nearest neighbors\n",
    "        n = knn(train,test,features,L,K) \n",
    "        # storing rmse for each fold\n",
    "        rmse = rmse.set_value(i, n)  \n",
    "    \n",
    "    # finding average rmse across k-fold\n",
    "    avg_rmse = rmse.mean()\n",
    "    print \"Total k-fold Time taken: \" + str(round(time.time() - start_time,2)) + \" seconds\"    \n",
    "    return avg_rmse\n",
    "\n",
    "# Computing 10-fold cross validation using crim and rm as input features\n",
    "cvk = knn_cross_validation(10,n_train,[0,5],2,3)\n",
    "print \"Average rmse for 10-fold cross validation with K as 3 -\",cvk"
   ]
  },
  {
   "cell_type": "markdown",
   "metadata": {},
   "source": [
    "###3.7 Using cross validation to find K\n",
    "\n",
    "What is the best choice of K?  Compute the RMSE for values of K between 1 and 25 using 10-fold cross-validation.  Use the following features in your model, and don't forget to normalize: CRIM, ZN, RM, AGE, DIS, TAX.  Create a graph that shows how RMSE changes as K increases from 1 to 25.  Label your axes, and summarize what you see.  What do you think is a reasonable choice of K for this model?"
   ]
  },
  {
   "cell_type": "code",
   "execution_count": 67,
   "metadata": {
    "collapsed": false
   },
   "outputs": [
    {
     "ename": "SyntaxError",
     "evalue": "invalid syntax (<ipython-input-67-4acd55051d1b>, line 8)",
     "output_type": "error",
     "traceback": [
      "\u001b[0;36m  File \u001b[0;32m\"<ipython-input-67-4acd55051d1b>\"\u001b[0;36m, line \u001b[0;32m8\u001b[0m\n\u001b[0;31m    print \"K value for lowest rmse - \",rmse.idxmin()\u001b[0m\n\u001b[0m                                     ^\u001b[0m\n\u001b[0;31mSyntaxError\u001b[0m\u001b[0;31m:\u001b[0m invalid syntax\n"
     ]
    }
   ],
   "source": [
    "start_time = time.time()\n",
    "# using series to store rmse for each value of K\n",
    "rmse = pd.Series(index=range(1,26))\n",
    "# starting a loop to compute average rmse for 10-fold cross validation\n",
    "for K in range(1,26):\n",
    "    rmse.ix[K] = knn_cross_validation(10,n_train,[0,1,5,6,7,9],2,K)\n",
    "    print (\"rmse \",K,rmse.ix[K])\n",
    "print \"K value for lowest rmse - \",rmse.idxmin()    \n",
    "\n",
    "print \"Total Time taken for finding optimum K: \" + str(round(time.time() - start_time,2)) + \" seconds\""
   ]
  },
  {
   "cell_type": "raw",
   "metadata": {},
   "source": []
  }
 ],
 "metadata": {
  "anaconda-cloud": {},
  "kernelspec": {
   "display_name": "Python [default]",
   "language": "python",
   "name": "python3"
  },
  "language_info": {
   "codemirror_mode": {
    "name": "ipython",
    "version": 3
   },
   "file_extension": ".py",
   "mimetype": "text/x-python",
   "name": "python",
   "nbconvert_exporter": "python",
   "pygments_lexer": "ipython3",
   "version": "3.5.2"
  }
 },
 "nbformat": 4,
 "nbformat_minor": 0
}
