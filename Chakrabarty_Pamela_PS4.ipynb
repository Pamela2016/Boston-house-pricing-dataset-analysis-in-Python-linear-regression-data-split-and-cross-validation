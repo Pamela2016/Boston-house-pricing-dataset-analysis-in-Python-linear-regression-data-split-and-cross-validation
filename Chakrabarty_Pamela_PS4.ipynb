{
 "cells": [
  {
   "cell_type": "markdown",
   "metadata": {},
   "source": [
    "# Problem Set 4, due February 23 at 11:59am, mid-day, noon.\n",
    "\n",
    "### Before You Start\n",
    "\n",
    "This is a fun but challenging problem set. It will test your python skills, as well as your understanding of the material in class and in the readings. Start early and debug often! Some notes:\n",
    "\n",
    "* Part 1 is meant to be easy, so get through it quickly.\n",
    "* Part 2 (especially 2.1) will be difficult, but it is the lynchpin of this problem set to make sure to do it well and understand what you've done. If you find your gradient descent algorithm is taking more than a few minutes to complete, debug more, compare notes with others, and go to the TA sessions.\n",
    "* Depending on how well you've done 2.1, parts 2.3 and 4.3 will be relatively painless or incredibly painful. \n",
    "* Part 4 (especially 3.3) will be computationally intensive. Don't leave this until the last minute, otherwise your code might be running when the deadline arrives.\n",
    "* Do the extra credit problems last."
   ]
  },
  {
   "cell_type": "markdown",
   "metadata": {},
   "source": [
    "---\n",
    "\n",
    "## Introduction to the assignment\n",
    "\n",
    "As with the last assignment, you will be using the [Boston Housing Prices Data Set](http://archive.ics.uci.edu/ml/datasets/Housing)."
   ]
  },
  {
   "cell_type": "code",
   "execution_count": 1,
   "metadata": {
    "collapsed": false
   },
   "outputs": [],
   "source": [
    "import IPython\n",
    "import numpy as np\n",
    "import scipy as sp\n",
    "import pandas as pd\n",
    "import matplotlib\n",
    "import sklearn\n",
    "\n",
    "%matplotlib inline  \n",
    "import matplotlib.pyplot as plt  \n",
    "import statsmodels.api as sm\n",
    "from sklearn.linear_model import LinearRegression\n",
    "from sklearn.metrics import mean_squared_error\n",
    "import statsmodels.formula.api as smf"
   ]
  },
  {
   "cell_type": "code",
   "execution_count": 2,
   "metadata": {
    "collapsed": true
   },
   "outputs": [],
   "source": [
    "from sklearn.datasets import load_boston\n",
    "bdata = load_boston()"
   ]
  },
  {
   "cell_type": "markdown",
   "metadata": {},
   "source": [
    "---\n",
    "\n",
    "## Part 1: Getting oriented\n",
    "\n",
    "Use different learning rates\n",
    "\n",
    "### 1.1 Use existing libraries\n",
    "\n",
    "Soon, you will write your own gradient descent algorithm, which you will then use to minimize the squared error cost function.  First, however, let's use the canned versions that come with Python, to make sure we understand what we're aiming to achieve.\n",
    "\n",
    "Using the same Boston housing prices dataset, use the [Linear Regression class](http://scikit-learn.org/stable/modules/generated/sklearn.linear_model.LinearRegression.html) from sklearn or the [OLS class](http://wiki.scipy.org/Cookbook/OLS) from SciPy to explore the relationship between  median housing price and number of rooms per house. Do this by first (a) regressing the housing price on the number of rooms per house, and then (b) regressing the housing price on the number of rooms per house and the (number of rooms per house) squared.  Interpret your results."
   ]
  },
  {
   "cell_type": "code",
   "execution_count": 3,
   "metadata": {
    "collapsed": false
   },
   "outputs": [
    {
     "data": {
      "text/html": [
       "<div>\n",
       "<table border=\"1\" class=\"dataframe\">\n",
       "  <thead>\n",
       "    <tr style=\"text-align: right;\">\n",
       "      <th></th>\n",
       "      <th>CRIM</th>\n",
       "      <th>ZN</th>\n",
       "      <th>INDUS</th>\n",
       "      <th>CHAS</th>\n",
       "      <th>NOX</th>\n",
       "      <th>RM</th>\n",
       "      <th>AGE</th>\n",
       "      <th>DIS</th>\n",
       "      <th>RAD</th>\n",
       "      <th>TAX</th>\n",
       "      <th>PTRATIO</th>\n",
       "      <th>B</th>\n",
       "      <th>LSTAT</th>\n",
       "      <th>MEDV</th>\n",
       "    </tr>\n",
       "  </thead>\n",
       "  <tbody>\n",
       "    <tr>\n",
       "      <th>0</th>\n",
       "      <td>0.00632</td>\n",
       "      <td>18.0</td>\n",
       "      <td>2.31</td>\n",
       "      <td>0.0</td>\n",
       "      <td>0.538</td>\n",
       "      <td>6.575</td>\n",
       "      <td>65.2</td>\n",
       "      <td>4.0900</td>\n",
       "      <td>1.0</td>\n",
       "      <td>296.0</td>\n",
       "      <td>15.3</td>\n",
       "      <td>396.90</td>\n",
       "      <td>4.98</td>\n",
       "      <td>24.0</td>\n",
       "    </tr>\n",
       "    <tr>\n",
       "      <th>1</th>\n",
       "      <td>0.02731</td>\n",
       "      <td>0.0</td>\n",
       "      <td>7.07</td>\n",
       "      <td>0.0</td>\n",
       "      <td>0.469</td>\n",
       "      <td>6.421</td>\n",
       "      <td>78.9</td>\n",
       "      <td>4.9671</td>\n",
       "      <td>2.0</td>\n",
       "      <td>242.0</td>\n",
       "      <td>17.8</td>\n",
       "      <td>396.90</td>\n",
       "      <td>9.14</td>\n",
       "      <td>21.6</td>\n",
       "    </tr>\n",
       "    <tr>\n",
       "      <th>2</th>\n",
       "      <td>0.02729</td>\n",
       "      <td>0.0</td>\n",
       "      <td>7.07</td>\n",
       "      <td>0.0</td>\n",
       "      <td>0.469</td>\n",
       "      <td>7.185</td>\n",
       "      <td>61.1</td>\n",
       "      <td>4.9671</td>\n",
       "      <td>2.0</td>\n",
       "      <td>242.0</td>\n",
       "      <td>17.8</td>\n",
       "      <td>392.83</td>\n",
       "      <td>4.03</td>\n",
       "      <td>34.7</td>\n",
       "    </tr>\n",
       "    <tr>\n",
       "      <th>3</th>\n",
       "      <td>0.03237</td>\n",
       "      <td>0.0</td>\n",
       "      <td>2.18</td>\n",
       "      <td>0.0</td>\n",
       "      <td>0.458</td>\n",
       "      <td>6.998</td>\n",
       "      <td>45.8</td>\n",
       "      <td>6.0622</td>\n",
       "      <td>3.0</td>\n",
       "      <td>222.0</td>\n",
       "      <td>18.7</td>\n",
       "      <td>394.63</td>\n",
       "      <td>2.94</td>\n",
       "      <td>33.4</td>\n",
       "    </tr>\n",
       "    <tr>\n",
       "      <th>4</th>\n",
       "      <td>0.06905</td>\n",
       "      <td>0.0</td>\n",
       "      <td>2.18</td>\n",
       "      <td>0.0</td>\n",
       "      <td>0.458</td>\n",
       "      <td>7.147</td>\n",
       "      <td>54.2</td>\n",
       "      <td>6.0622</td>\n",
       "      <td>3.0</td>\n",
       "      <td>222.0</td>\n",
       "      <td>18.7</td>\n",
       "      <td>396.90</td>\n",
       "      <td>5.33</td>\n",
       "      <td>36.2</td>\n",
       "    </tr>\n",
       "  </tbody>\n",
       "</table>\n",
       "</div>"
      ],
      "text/plain": [
       "      CRIM    ZN  INDUS  CHAS    NOX     RM   AGE     DIS  RAD    TAX  \\\n",
       "0  0.00632  18.0   2.31   0.0  0.538  6.575  65.2  4.0900  1.0  296.0   \n",
       "1  0.02731   0.0   7.07   0.0  0.469  6.421  78.9  4.9671  2.0  242.0   \n",
       "2  0.02729   0.0   7.07   0.0  0.469  7.185  61.1  4.9671  2.0  242.0   \n",
       "3  0.03237   0.0   2.18   0.0  0.458  6.998  45.8  6.0622  3.0  222.0   \n",
       "4  0.06905   0.0   2.18   0.0  0.458  7.147  54.2  6.0622  3.0  222.0   \n",
       "\n",
       "   PTRATIO       B  LSTAT  MEDV  \n",
       "0     15.3  396.90   4.98  24.0  \n",
       "1     17.8  396.90   9.14  21.6  \n",
       "2     17.8  392.83   4.03  34.7  \n",
       "3     18.7  394.63   2.94  33.4  \n",
       "4     18.7  396.90   5.33  36.2  "
      ]
     },
     "execution_count": 3,
     "metadata": {},
     "output_type": "execute_result"
    }
   ],
   "source": [
    "# uncomment the following if you want to see a lengthy description of the dataset\n",
    "# print bdata.keys()\n",
    "# print bdata.feature_names\n",
    "# print bdata.data.shape\n",
    "# print bdata.target.shape\n",
    "# print bdata.DESCR\n",
    "\n",
    "# Create a data frame\n",
    "boston_df = pd.DataFrame(bdata.data)\n",
    "\n",
    "# Column names\n",
    "boston_df.columns = bdata.feature_names\n",
    "\n",
    "# Median price as target\n",
    "boston_df['MEDV'] = bdata.target\n",
    "\n",
    "# Display data\n",
    "boston_df.head()"
   ]
  },
  {
   "cell_type": "code",
   "execution_count": 4,
   "metadata": {
    "collapsed": false
   },
   "outputs": [
    {
     "data": {
      "text/plain": [
       "Intercept   -34.670621\n",
       "RM            9.102109\n",
       "dtype: float64"
      ]
     },
     "execution_count": 4,
     "metadata": {},
     "output_type": "execute_result"
    }
   ],
   "source": [
    "# fitting linear model with RM\n",
    "lmod1 = smf.ols(formula='MEDV ~ RM', data = boston_df).fit()\n",
    "# Print results of the linear model\n",
    "lmod1.params"
   ]
  },
  {
   "cell_type": "code",
   "execution_count": 5,
   "metadata": {
    "collapsed": false
   },
   "outputs": [
    {
     "data": {
      "text/plain": [
       "Intercept    66.058847\n",
       "RM          -22.643262\n",
       "RM2           2.470124\n",
       "dtype: float64"
      ]
     },
     "execution_count": 5,
     "metadata": {},
     "output_type": "execute_result"
    }
   ],
   "source": [
    "# Creating new variable for square of RM\n",
    "boston_df[\"RM2\"] = boston_df[\"RM\"]**2\n",
    "\n",
    "#fitting second linear model\n",
    "lmod2 = smf.ols(formula='MEDV ~ RM + RM2', data = boston_df).fit()\n",
    "\n",
    "#printing\n",
    "lmod2.params"
   ]
  },
  {
   "cell_type": "markdown",
   "metadata": {},
   "source": [
    "Observation:\n",
    "From first linear regression model with only number of rooms (RM), we see a linear relationship between median price of houses and number of rooms, which means for every 1 bedroom increase the house price increases by $9.1k. In second linear regression model when we add the square of number of rooms covariate, then the coefficient of number of rooms reduces and the square term has a significant impact on the median prices of houses. Hence, we can infer that there is also a non-linear relationship in the model"
   ]
  },
  {
   "cell_type": "markdown",
   "metadata": {},
   "source": [
    "### 1.2 Training and testing\n",
    "\n",
    "Chances are, for the above problem you used all of your data to fit the regression line. In some circumstances this is a reasonable thing to do, but often this will result in overfitting. Let's redo the above results the ML way, using careful cross-validation.  Since you are now experts in cross-validation, and have written your own cross-validation algorithm from scratch, you can now take a shortcut and use the libraries that others have built for you.\n",
    "\n",
    "Using the [cross-validation functions](http://scikit-learn.org/stable/modules/cross_validation.html) from scikit-learn, use 250-fold cross-validation to fit regression (a) above, i.e. the linear fit of housing price on number of rooms per house. Each fold of cross-validation will give you one slope coefficient and one intercept coefficient.  Plot the distribution of the 250 slope coefficients using a histogram with 25 bins, then draw a vertical line at the value of the slope coefficient that you estimated in 1.1 using the full dataset.  What do you notice?"
   ]
  },
  {
   "cell_type": "code",
   "execution_count": 6,
   "metadata": {
    "collapsed": false
   },
   "outputs": [
    {
     "name": "stdout",
     "output_type": "stream",
     "text": [
      "sklearn.cross_validation.KFold(n=506, n_folds=250, shuffle=False, random_state=None)\n"
     ]
    }
   ],
   "source": [
    "from sklearn.cross_validation import KFold\n",
    "\n",
    "# Making k-folds of  dataset\n",
    "kf = KFold(506, n_folds=250)\n",
    "print(kf)\n",
    "\n",
    "# Defining the covariate and target\n",
    "a = boston_df[\"RM\"]\n",
    "b = boston_df[\"MEDV\"]\n",
    "\n",
    "#creating test and train datasets\n",
    "a_train = []\n",
    "a_test = []\n",
    "b_train = []\n",
    "b_test = []\n",
    "\n",
    "# Creating and combining 250 train data sets and 250 test datasets together\n",
    "for train_index, test_index in kf:\n",
    "    a_train.append(a[train_index])\n",
    "    b_train.append(b[train_index])\n",
    "    a_test.append(a[test_index])\n",
    "    b_test.append(b[test_index])\n",
    "    \n",
    "#Creating matrix of RM and MEDV with K-fold generating two sets of train and test\n",
    "#For first 5 iterations there are 503 indices in train and 3 indices in test\n",
    "#and till 250 there are 504 indices in train and 2 incidences in test, so initiating a for loop for train and test datasets\n",
    "for i in range(250):\n",
    "    if i < 6:\n",
    "        a_train[i] = a_train[i].reshape(503,1)\n",
    "        b_train[i] = b_train[i].reshape(503,1)\n",
    "        a_test[i] = a_test[i].reshape(3,1)\n",
    "        b_test[i] = b_test[i].reshape(3,1)\n",
    "    else:\n",
    "        a_train[i] = a_train[i].reshape(504,1)\n",
    "        b_train[i] = b_train[i].reshape(504,1)\n",
    "        a_test[i] = a_test[i].reshape(2,1)\n",
    "        b_test[i] = b_test[i].reshape(2,1)\n",
    "        "
   ]
  },
  {
   "cell_type": "code",
   "execution_count": 8,
   "metadata": {
    "collapsed": false
   },
   "outputs": [
    {
     "data": {
      "text/plain": [
       "<matplotlib.text.Text at 0x24ec94c8198>"
      ]
     },
     "execution_count": 8,
     "metadata": {},
     "output_type": "execute_result"
    },
    {
     "data": {
      "image/png": "[encoded data removed]",
      "text/plain": [
       "<matplotlib.figure.Figure at 0x24ec7ff24e0>"
      ]
     },
     "metadata": {},
     "output_type": "display_data"
    }
   ],
   "source": [
    "#Apply linear regression with MEDV as target and RM as predictor on 250 folds\n",
    "linear_regression = []\n",
    "for i in range(250):\n",
    "    lin_reg = LinearRegression()\n",
    "    linear_regression.append(lin_reg.fit(a_train[i], b_train[i]).coef_[0][0])\n",
    "    \n",
    "#now plotting histogram for the slope distribution    \n",
    "plt.hist(linear_regression, bins = 25, color=\"g\")\n",
    "plt.axvline(x = lmod1.params[1],color = \"r\")\n",
    "plt.xlabel(\" Slope coefficient values\")\n",
    "plt.ylabel(\"No. of folds\")\n",
    "plt.title(\"Distribution of slope coefficients VS No. of folds\")"
   ]
  },
  {
   "cell_type": "raw",
   "metadata": {},
   "source": [
    "Observation:\n",
    "We see from graph that a little more than 160 folds are having 9.1 as coefficient values which aligns with the linear regression outcome."
   ]
  },
  {
   "cell_type": "markdown",
   "metadata": {},
   "source": [
    "### 1.3 Regression lines\n",
    "\n",
    "Create a scatterplot of housing price on rooms per house, and add the two regression lines from 1.1 (or 1.2 if you prefer to do so). Show the linear regression line in red, and the linear+quadratic regression line (which may have curvature) in blue.  Label these two regression lines with the corresponding regression equations (i.e. the slope and intercept of the line).\n",
    "\n",
    "Bonus: Add the 95% confidence bands (i.e.,  the area that has a 95% chance of containing the true regression line) to each of these lines."
   ]
  },
  {
   "cell_type": "markdown",
   "metadata": {},
   "source": [
    "\n"
   ]
  },
  {
   "cell_type": "code",
   "execution_count": 9,
   "metadata": {
    "collapsed": false
   },
   "outputs": [
    {
     "data": {
      "image/png": "[encoded data removed]",
      "text/plain": [
       "<matplotlib.figure.Figure at 0x24ec95412b0>"
      ]
     },
     "metadata": {},
     "output_type": "display_data"
    }
   ],
   "source": [
    "# creating a Scatter plot\n",
    "fig, ax = plt.subplots(figsize=(15, 8))\n",
    "#ax.grid(True)\n",
    "ax.text(8.7, 48, \"y = -34.67 + 9.1x\")\n",
    "ax.text(8.7, 59, \"y = 66.05 - 22.64x + 2.47x^2\")\n",
    "ax.scatter(boston_df[\"RM\"], boston_df[\"MEDV\"], alpha=0.5, color='b', label =\"Data Points\")\n",
    "#Adding a linear regression line within the plot\n",
    "ax.plot(boston_df[\"RM\"], lmod1.params[0] + (lmod1.params[1]*boston_df[\"RM\"]), alpha=5, \n",
    "        color='r', label = \"Regression Line with only RM\")\n",
    "\n",
    "#next adding a quadratic regression line\n",
    "ax.plot(boston_df[\"RM\"], \n",
    "           lmod2.params[0] + (lmod2.params[1]*boston_df[\"RM\"]) + (lmod2.params[2]*((boston_df[\"RM\"])**2)), \n",
    "           alpha=0.5,  color='g', label = \"Regression curve with RM and RM-Squared\")\n",
    "plt.ylabel(\"Median house price in $ 1000)\")\n",
    "plt.xlabel(\"Number of Rooms per house\")\n",
    "plt.legend(loc=\"upper left\")\n",
    "plt.title(\"Correlation between Median price of homes and Number of rooms\")\n",
    "plt.show()"
   ]
  },
  {
   "cell_type": "markdown",
   "metadata": {},
   "source": [
    "## Part 2: Gradient descent: Linear Regression\n",
    "\n",
    "This is where it gets fun!\n",
    "\n",
    "### 2.1 Implement gradient descent with one independent variable (Average rooms per house)\n",
    "\n",
    "Implement the batch gradient descent algorithm that we discussed in class. Use the version you implement to regress the housing price on the number of rooms per house. Experiment with 3-4 different values of the learning rate *R*, and do the following:\n",
    "\n",
    "* Report the values of alpha and beta that minimize the loss function\n",
    "* Report the number of iterations it takes for your algorithm to converge (for each value of *R*)\n",
    "* Report the total running time of your algorithm, in seconds\n",
    "\n",
    "Some skeleton code is provided below, but you should feel free to delete this code and start from scratch if you prefer.\n",
    "\n",
    "* *Hint 1: Don't forget to implement a stopping condition, so that at every iteration you check whether your results have converged. Common approaches to this are to (a) check to see if the loss has stopped decreasing; and (b) check if both your current parameter esimates are close to the estimates from the previous iteration.  In both cases, \"close\" should not be ==0, it should be <=epsilon, where epsilon is something very small (like 0.0001).*\n",
    "* *Hint 2: Some people like to include a MaxIterations parameter in their gradient descent algorithm, to prevent divergence. *"
   ]
  },
  {
   "cell_type": "code",
   "execution_count": 18,
   "metadata": {
    "collapsed": false
   },
   "outputs": [],
   "source": [
    "import time\n",
    "\n",
    "\"\"\"\n",
    "Function\n",
    "--------\n",
    "bivariate_ols\n",
    "    Gradient Decent to minimize OLS. Used to find co-efficients of bivariate OLS Linear regression\n",
    "\n",
    "Parameters\n",
    "----------\n",
    "xvalues, yvalues : narray\n",
    "    xvalues: independent variable\n",
    "    yvalues: dependent variable\n",
    "    \n",
    "R: float\n",
    "    Learning rate\n",
    "    \n",
    "MaxIterations: Int\n",
    "    maximum number of iterations\n",
    "    \n",
    "\n",
    "Returns\n",
    "-------\n",
    "alpha: float\n",
    "    intercept\n",
    "    \n",
    "beta: float\n",
    "    co-efficient\n",
    "\"\"\"\n",
    "import time\n",
    "\n",
    "def bivariate_ols(xvalue_matrix, yvalues, R=0.01, MaxIterations=10000):\n",
    "    start_time = time.time()\n",
    "    x = xvalue_matrix\n",
    "    #Calculating  length of target vector\n",
    "    m = len(yvalues)\n",
    "    #calculating  length of the output variable\n",
    "    n = len(x.T)\n",
    "    \n",
    "    #starting off coefficients vector with all 10 values\n",
    "    coeff = np.array([10]*l2)\n",
    "    #Converting it to a matrix\n",
    "    coeff = coeff.reshape(-1,1)\n",
    "    \n",
    "    #transposing the matrix of predictors\n",
    "    xTrans = x.transpose()\n",
    "    \n",
    "    #Transferring the target vector to a matrix\n",
    "    y = yvalues.values.reshape(-1,1)\n",
    "    #the product of predictors and coefficient matrix giving the predicted values\n",
    "    yhat = np.dot(x,coeff)\n",
    "    #Calculate error\n",
    "    err = yhat - y\n",
    "    \n",
    "    #finding sum of squared error from the above error matrix \n",
    "    err2 = np.sum(err**2)\n",
    "    \n",
    "    #setting converged to False \n",
    "    converged=False\n",
    "    iteration=0\n",
    "    while not converged:\n",
    "        #Calculating the gradient\n",
    "        gradient = np.dot(xTrans,err)/m\n",
    "        \n",
    "        #finding new coefficient values with learning rate and gradient\n",
    "        coeff = coeff - R*gradient\n",
    "        #Update cost value with new coefficient values\n",
    "        yhat = np.dot(x,coeff)\n",
    "        err=yhat-y\n",
    "        cost = np.sum(err**2)\n",
    "        \n",
    "        #Checking if the convergence condition is met\n",
    "        if(abs(cost-err2)<=0.0001):\n",
    "            print(\"Converged after iteration: %s\"%iteration)\n",
    "            converged = True\n",
    "        else:\n",
    "            err2=cost\n",
    "        #setting condition for maximum number of iterations        \n",
    "        if iteration==MaxIterations:\n",
    "            print(\"Max Iterations Reached\")\n",
    "            converged = True\n",
    "        iteration+=1\n",
    "    print (\"Time taken: \" + str(round(time.time() - start_time,2)) + \" seconds\")\n",
    "        \n",
    "    return coeff[0], coeff[1]"
   ]
  },
  {
   "cell_type": "code",
   "execution_count": 16,
   "metadata": {
    "collapsed": false
   },
   "outputs": [
    {
     "name": "stdout",
     "output_type": "stream",
     "text": [
      "\n",
      " For R = 0.1\n",
      "Max Iterations Reached\n",
      "Time taken: 29.5 seconds\n",
      "(array([ nan]), array([ nan]))\n",
      "\n",
      " For R = 0.01\n",
      "Converged after iteration: 42626\n",
      "Time taken: 1.13 seconds\n",
      "(array([-34.41238327]), array([ 9.06151274]))\n",
      "\n",
      " For R = 0.001\n",
      "Converged after iteration: 330531\n",
      "Time taken: 9.88 seconds\n",
      "(array([-33.85391358]), array([ 8.97371847]))\n"
     ]
    }
   ],
   "source": [
    "#making a matrix with first col as intercept and next 2 columns as coefficient\n",
    "x_matrix = np.ones((506, 2))\n",
    "#Standardizing the vatiable RM\n",
    "x_matrix[:,1:2] = boston_df[\"RM\"].values.reshape(506,1)\n",
    "\n",
    "print(\"\\n For R = 0.1\")\n",
    "print(bivariate_ols(x_matrix, boston_df[\"MEDV\"], 0.1, 1000000))\n",
    "\n",
    "print(\"\\n For R = 0.01\")\n",
    "print(bivariate_ols(x_matrix, boston_df[\"MEDV\"], 0.01, 1000000))\n",
    "\n",
    "print(\"\\n For R = 0.001\")\n",
    "print(bivariate_ols(x_matrix, boston_df[\"MEDV\"], 0.001, 1000000))"
   ]
  },
  {
   "cell_type": "markdown",
   "metadata": {},
   "source": [
    "Observation:\n",
    "The value of alpha and coefficient for the bivariate model is pretty similar to what we got with the OLS function we got.\n",
    "As with large values of R, error function becomes infite, so the learning rate of 0.1 is giving undefined output.\n",
    "We find the best alpha and coefficient is for the learning rate 0.01."
   ]
  },
  {
   "cell_type": "markdown",
   "metadata": {},
   "source": [
    "### 2.2 Data normalization (done for you!)\n",
    "\n",
    "Soon, you will implement a version of gradient descent that can use an arbitrary number of independent variables. Before doing this, we want to give you some code in case you want to standardize your features."
   ]
  },
  {
   "cell_type": "code",
   "execution_count": 17,
   "metadata": {
    "collapsed": false
   },
   "outputs": [],
   "source": [
    "def standardize(raw_data):\n",
    "    return ((raw_data - np.mean(raw_data, axis = 0)) / np.std(raw_data, axis = 0))"
   ]
  },
  {
   "cell_type": "markdown",
   "metadata": {},
   "source": [
    "### 2.3 Implement gradient descent with an arbitrary number of independent variables\n",
    "\n",
    "Now that you have a simple version of gradient descent working, create a version of gradient descent that can take more than one independent variable.  Assume all independent variables will be continuous.  Test your algorithm using CRIM and RM as independent variables. Standardize these variables before before inputting them to the gradient descent algorithm. \n",
    "\n",
    "As before,  report and interpret your estimated coefficients, the number of iterations before convergence, and the total running time of your algorithm. Experiment with 2-3 different values of R.\n",
    "\n",
    "* *Hint 1: Be careful to implement this efficiently, otherwise it might take a long time for your code to run. Commands like `np.dot` can be a good friend to you on this problem*"
   ]
  },
  {
   "cell_type": "code",
   "execution_count": 19,
   "metadata": {
    "collapsed": false
   },
   "outputs": [],
   "source": [
    "\"\"\"\n",
    "Function\n",
    "--------\n",
    "multivariate_ols\n",
    "    Gradient Decent to minimize OLS. Used to find co-efficients of bivariate OLS Linear regression\n",
    "\n",
    "Parameters\n",
    "----------\n",
    "xvalue_matrix, yvalues : narray\n",
    "    xvalue_matrix: independent variable\n",
    "    yvalues: dependent variable\n",
    "    \n",
    "R: float\n",
    "    Learning rate\n",
    "    \n",
    "MaxIterations: Int\n",
    "    maximum number of iterations\n",
    "    \n",
    "\n",
    "Returns\n",
    "-------\n",
    "alpha: float\n",
    "    intercept\n",
    "    \n",
    "beta_array: array[float]\n",
    "    co-efficient\n",
    "\"\"\"\n",
    "import time\n",
    "def multivariate_ols(xvalue_matrix, yvalues, R=0.01, MaxIterations=10000):\n",
    "    start_time = time.time()\n",
    "    x = xvalue_matrix\n",
    "    #Calculating length of target vector\n",
    "    m = len(yvalues)\n",
    "    #calculating length of the output variable\n",
    "    n = len(x.T)\n",
    "    \n",
    "    #starting off coefficients vector with all 10 values\n",
    "    coeff = np.array([10]*n)\n",
    "    #Convert to matrix\n",
    "    coeff = coeff.reshape(-1,1)\n",
    "    \n",
    "    #transposing the matrix of predictors\n",
    "    xTrans = x.transpose()\n",
    "    \n",
    "    #Converting vector of traget to a matrix\n",
    "    y = yvalues.values.reshape(-1,1)\n",
    "    #the product of predictors and coefficient matrix gives the predicted values\n",
    "    yhat = np.dot(x,coeff)\n",
    "    #Calculating error\n",
    "    err = yhat - y\n",
    "    \n",
    "    #finding sum of squared error from the above error matrix\n",
    "    err2 = np.sum(err**2)\n",
    "    \n",
    "    #setting converged to False as deafult\n",
    "    converged=False\n",
    "    iteration=0\n",
    "    while not converged:\n",
    "        #Calculating gradient\n",
    "        gradient = np.dot(xTrans,err)/m\n",
    "        \n",
    "        #Calculating new coefficient values with learning rate and gradient\n",
    "        coeff = coeff - R*gradient\n",
    "        #Updating cost value with new coefficient values\n",
    "        yhat = np.dot(x,coeff)\n",
    "        err=yhat-y\n",
    "        cost = np.sum(err**2)\n",
    "        \n",
    "        #Checking if the convergence condition is reached\n",
    "        if(abs(cost-err2)<=0.0001):\n",
    "            print(\"Converged after iteration: %s\"%iteration)\n",
    "            converged = True\n",
    "        else:\n",
    "            err2=cost\n",
    "        #condition for max number of iterations        \n",
    "        if iteration==MaxIterations:\n",
    "            print(\"Max Iterations Reached\")\n",
    "            converged = True\n",
    "        iteration+=1\n",
    "    print (\"Time taken: \" + str(round(time.time() - start_time,2)) + \" seconds\")\n",
    "        \n",
    "    return coeff[0], coeff[1:]"
   ]
  },
  {
   "cell_type": "code",
   "execution_count": 22,
   "metadata": {
    "collapsed": false
   },
   "outputs": [
    {
     "name": "stdout",
     "output_type": "stream",
     "text": [
      "\n",
      " For R = 0.1\n",
      "Converged after iteration: 113\n",
      "Time taken: 0.01 seconds\n",
      "(array([ 22.53273017]), array([[ 5.89519421],\n",
      "       [-2.24782868]]))\n",
      "\n",
      " For R = 0.01\n",
      "Converged after iteration: 1018\n",
      "Time taken: 0.05 seconds\n",
      "(array([ 22.53235932]), array([[ 5.89720009],\n",
      "       [-2.24579562]]))\n",
      "\n",
      " For R = 0.001\n",
      "Converged after iteration: 8754\n",
      "Time taken: 0.44 seconds\n",
      "(array([ 22.5308389]), array([[ 5.90314339],\n",
      "       [-2.23969647]]))\n"
     ]
    }
   ],
   "source": [
    "#Creating a matrix with first col for intercept and next 2 columns for beta_1 and beta_2\n",
    "x_matrix = np.ones((506, 3))\n",
    "#Standardizing RM and CRIM\n",
    "x_matrix[:,1:2] = standardize(boston_df[\"RM\"]).values.reshape(506,1)\n",
    "x_matrix[:,2:3] = standardize(boston_df[\"CRIM\"]).values.reshape(506,1)\n",
    "\n",
    "print(\"\\n For R = 0.1\")\n",
    "print(multivariate_ols(x_matrix, boston_df[\"MEDV\"], 0.1, 10000))\n",
    "\n",
    "print(\"\\n For R = 0.01\")\n",
    "print(multivariate_ols(x_matrix, boston_df[\"MEDV\"], 0.01, 10000))\n",
    "\n",
    "print(\"\\n For R = 0.001\")\n",
    "print(multivariate_ols(x_matrix, boston_df[\"MEDV\"], 0.001, 10000))"
   ]
  },
  {
   "cell_type": "markdown",
   "metadata": {},
   "source": [
    "Observation:\n",
    "In the above multivariate regression we are standardizing the covariates and we are taking learning rate as 0.1 and upto 113 iterations."
   ]
  },
  {
   "cell_type": "markdown",
   "metadata": {},
   "source": [
    "### 2.4 Compare standardized vs. non-standardized results\n",
    "\n",
    "Repeat the analysis from 2.3, but this time do not standardize your variables - i.e., use the original data. Use the same three values of R (0.1, 0.01, and 0.001). What do you notice about the running time and convergence properties of your algorithm?"
   ]
  },
  {
   "cell_type": "code",
   "execution_count": 23,
   "metadata": {
    "collapsed": false
   },
   "outputs": [
    {
     "name": "stdout",
     "output_type": "stream",
     "text": [
      "\n",
      " For R = 0.1\n",
      "Max Iterations Reached\n",
      "Time taken: 2.28 seconds\n",
      "(array([ nan]), array([[ nan],\n",
      "       [ nan]]))\n",
      "\n",
      " For R = 0.01\n",
      "Converged after iteration: 43941\n",
      "Time taken: 1.06 seconds\n",
      "(array([-29.02447588]), array([[ 8.35444689],\n",
      "       [-0.26274883]]))\n",
      "\n",
      " For R = 0.001\n",
      "Max Iterations Reached\n",
      "Time taken: 2.69 seconds\n",
      "(array([-16.87529333]), array([[ 6.46615335],\n",
      "       [-0.30333011]]))\n"
     ]
    }
   ],
   "source": [
    "#Now without standradizing RM and CRIM as done before\n",
    "x_matrix = np.ones((506, 3))\n",
    "x_matrix[:,1:2] = boston_df[\"RM\"].values.reshape(506,1)\n",
    "x_matrix[:,2:3] = boston_df[\"CRIM\"].values.reshape(506,1)\n",
    "\n",
    "print(\"\\n For R = 0.1\")\n",
    "print(multivariate_ols(x_matrix, boston_df[\"MEDV\"], 0.1, 100000))\n",
    "\n",
    "print(\"\\n For R = 0.01\")\n",
    "print(multivariate_ols(x_matrix, boston_df[\"MEDV\"], 0.01, 100000))\n",
    "\n",
    "print(\"\\n For R = 0.001\")\n",
    "print(multivariate_ols(x_matrix, boston_df[\"MEDV\"], 0.001, 100000))"
   ]
  },
  {
   "cell_type": "markdown",
   "metadata": {},
   "source": [
    "Observatiom:\n",
    "Here, we are not standardizing the data and we see that for learning rate 0.1 we are getting alpha and coefficients as undefined.\n",
    "So, we can infer that multivariate regression works best when the data is standardized already."
   ]
  },
  {
   "cell_type": "markdown",
   "metadata": {},
   "source": [
    "## 3. Prediction\n",
    "\n",
    "Let's use our fitted model to make predictions about housing prices. Since the focus is now on prediction rather than the interpretation of the coefficients, it would be wise for you to first standardize your features before proceeding.\n",
    "\n",
    "### 3.1 Cross-Validation\n",
    "\n",
    "Unless you were careful above, you probably overfit your data again. Let's fix that in one of two ways. If you're feeling confident, use k-fold cross-validation to re-fit the multivariate regression from 2.3 above, and report your estimated coefficients (there should be three, corresponding to the intercept and the two coefficients for CRIM and RM). Or if you want to do the quick and dirty version, randomly divide your data into a training set (66%) and testing set (34%) and use the training set to re-fit the regression from 2.3 above. "
   ]
  },
  {
   "cell_type": "code",
   "execution_count": 24,
   "metadata": {
    "collapsed": false
   },
   "outputs": [
    {
     "name": "stdout",
     "output_type": "stream",
     "text": [
      "Converged after iteration: 979\n",
      "Time taken: 0.04 seconds\n",
      "(array([ 22.2902383]), array([[ 5.78672565],\n",
      "       [-2.51469524]]))\n"
     ]
    }
   ],
   "source": [
    "from sklearn.cross_validation import train_test_split\n",
    "\n",
    "#creating a  matrix\n",
    "x_matrix = np.ones((506,3))\n",
    "x_matrix[:,1:2] = standardize(boston_df[\"RM\"]).values.reshape(506,1)\n",
    "x_matrix[:,2:3] = standardize(boston_df[\"CRIM\"]).values.reshape(506,1)\n",
    "y = boston_df[\"MEDV\"]\n",
    "\n",
    "#Divide the dataset into train and test\n",
    "a_train, a_test, b_train, b_test = train_test_split(x_matrix,y,test_size=0.34,random_state=10)\n",
    "\n",
    "model_3 = multivariate_ols(a_train,b_train,0.01,1000)\n",
    "print(model_3)"
   ]
  },
  {
   "cell_type": "markdown",
   "metadata": {},
   "source": [
    "Observation:\n",
    "After dividing the data set into train and test, we see that the model gives same results as the model in question 2.3"
   ]
  },
  {
   "cell_type": "markdown",
   "metadata": {},
   "source": [
    "### 3.2 Predicted values and RMSE\n",
    "\n",
    "Let's figure out how accurate this predictive model turned out to be. Compute the RMSE on your test cases, i.e. take the model parameters that you found above and compare the actual to the predicted values for just the test instances. If you did this the k-fold way above, this will be the average RMSE across the k test sets. If you did this the quick and dirty way above, this will just be the RMSE on your single test set.\n",
    "\n",
    "What is your test RMSE?  How does it compare to the performance of your nearest neighbor algorithm from the last problem set?"
   ]
  },
  {
   "cell_type": "code",
   "execution_count": 26,
   "metadata": {
    "collapsed": false
   },
   "outputs": [
    {
     "name": "stdout",
     "output_type": "stream",
     "text": [
      "RMSE obtained for the test data:\n",
      "\n",
      "6.20195117278\n"
     ]
    }
   ],
   "source": [
    "#Repeating the use of RMSE function from part 3\n",
    "def compute_rmse(prediction,yvalues):\n",
    "    if len(np.array(prediction))==len(np.array(yvalues)):\n",
    "        rmse = np.sqrt(np.mean((np.array(prediction)-np.array(yvalues))**2))\n",
    "    else:\n",
    "        print(\"array length not equal\")\n",
    "        return -1\n",
    "    return rmse \n",
    "\n",
    "\n",
    "# next creating an array for predicted values\n",
    "yhat = []\n",
    "\n",
    "alpha = model_3[0]\n",
    "beta_0 = model_3[1][0]\n",
    "beta_1 = model_3[1][1]\n",
    "for i in range(len(a_test)):\n",
    "   \n",
    "    yhat.append((alpha+beta_0*a_test[i][1]+beta_1*a_test[i][2])[0])\n",
    "\n",
    "y_actual = []\n",
    "#initiating a loop below\n",
    "for i in b_test.index:\n",
    "    y_actual.append(b_test[i])\n",
    "\n",
    "print(\"RMSE obtained for the test data:\\n\")    \n",
    "print(compute_rmse(yhat,y_actual))"
   ]
  },
  {
   "cell_type": "markdown",
   "metadata": {},
   "source": [
    "Observation:\n",
    "In problem set 3, we see that the nearest neighbor gave an average RMSE of 6.77 (which is within the range 5 and 12)\n",
    "And in the above question 3.2, we are see that RMSE is 6.2. This indicates that gradient descent provides better preformance than nearest neighbor method."
   ]
  },
  {
   "cell_type": "markdown",
   "metadata": {},
   "source": [
    "### Extra Credit 1: Logistic Regression\n",
    "\n",
    "For extra credit, implement logistic regression using gradient descent. Create a new variable (EXPENSIVE) to indicate whether the median housing price is more than $400,000. Use your model  a logistic regression of EXPENSIVE on CHAS and RM. Report your results."
   ]
  },
  {
   "cell_type": "code",
   "execution_count": null,
   "metadata": {
    "collapsed": false
   },
   "outputs": [],
   "source": [
    "# Your code here"
   ]
  },
  {
   "cell_type": "markdown",
   "metadata": {},
   "source": [
    "*Discuss your results here*"
   ]
  },
  {
   "cell_type": "markdown",
   "metadata": {},
   "source": [
    "## 4 Regularization \n",
    "\n",
    "### 4.1 Get prepped\n",
    "\n",
    "Step 1: Create new interaction variables between each possible pair of the F_s features. If you originally had *K* features, you should now have *K+K^2/2* features. Standardize all of your features.\n",
    "\n",
    "Step 2: For simplicity, generate a single training and testing set.  Randomly sample 66% of your data and call this the training set, and set aside the remaining 34% as your test set."
   ]
  },
  {
   "cell_type": "code",
   "execution_count": 28,
   "metadata": {
    "collapsed": false
   },
   "outputs": [],
   "source": [
    "# resetting data into a pandas DataFrame\n",
    "new_boston_df = pd.DataFrame(bdata.data)\n",
    "\n",
    "# Naming columns\n",
    "new_boston_df.columns = bdata.feature_names\n",
    "\n",
    "#creating a list for new features\n",
    "features = bdata.feature_names\n",
    "\n",
    "#creating new features    \n",
    "for i in range(len(features)):\n",
    "    f1 = features[i]   \n",
    "    j = i+1\n",
    "    for j in range(j,len(features)):\n",
    "        f2 = features[j]\n",
    "        new_boston_df[f1+\"*\"+f2]=new_boston_df[f1]*new_boston_df[f2]\n",
    "                \n",
    "# Set price column for target\n",
    "new_boston_df['MEDV'] = bdata.target"
   ]
  },
  {
   "cell_type": "markdown",
   "metadata": {},
   "source": [
    "### 4.2 Let's overfit!\n",
    "Now, using your version of multivariate regression from 2.3, let's overfit the training data. Using your training set, regress housing price on as many of those *K+K/2* features as you can.  If you get too greedy, it's possible this will take a long time to compute, so start with 5-10 features, and if you have the time, add more features.\n",
    "\n",
    "Report the RMSE when you apply your model to your training set and to your testing set. How do these numbers compare to each other, and to the RMSE from 3.2 and nearest neighbors?"
   ]
  },
  {
   "cell_type": "code",
   "execution_count": 31,
   "metadata": {
    "collapsed": false
   },
   "outputs": [
    {
     "name": "stdout",
     "output_type": "stream",
     "text": [
      "Max Iterations Reached\n",
      "Time taken: 2.67 seconds\n"
     ]
    },
    {
     "data": {
      "text/plain": [
       "(array([ 22.47101579]), array([[ 12.22239516],\n",
       "        [  1.804958  ],\n",
       "        [ -1.17338703],\n",
       "        [ -1.64857489],\n",
       "        [ 21.98835125],\n",
       "        [  0.16254483],\n",
       "        [ -4.12729447],\n",
       "        [  1.61835664],\n",
       "        [  0.38334296],\n",
       "        [-23.14222626]]))"
      ]
     },
     "execution_count": 31,
     "metadata": {},
     "output_type": "execute_result"
    }
   ],
   "source": [
    "x_matrix = np.ones((506, 11, ))\n",
    "\n",
    "x_matrix[:,1:2] = standardize(new_boston_df[\"RM\"]).reshape(506,1)\n",
    "x_matrix[:,2:3] = standardize(new_boston_df[\"CRIM\"]).reshape(506,1)\n",
    "x_matrix[:,3:4] = standardize(new_boston_df[\"DIS\"]).reshape(506,1)\n",
    "x_matrix[:,4:5] = standardize(new_boston_df[\"RAD\"]).reshape(506,1)\n",
    "x_matrix[:,5:6] = standardize(new_boston_df[\"TAX\"]).reshape(506,1)\n",
    "x_matrix[:,6:7] = standardize(new_boston_df[\"CRIM*RM\"]).reshape(506,1)\n",
    "x_matrix[:,7:8] = standardize(new_boston_df[\"CRIM*DIS\"]).reshape(506,1)\n",
    "x_matrix[:,8:9] = standardize(new_boston_df[\"DIS*RAD\"]).reshape(506,1)\n",
    "x_matrix[:,9:10] = standardize(new_boston_df[\"RAD*TAX\"]).reshape(506,1)\n",
    "x_matrix[:,10:11] = standardize(new_boston_df[\"RM*TAX\"]).reshape(506,1)\n",
    "\n",
    "y = new_boston_df[\"MEDV\"]\n",
    "\n",
    "#splitting into test and train\n",
    "a_train, a_test, b_train, b_test = train_test_split(x_matrix, y, test_size=0.34, random_state = 5)\n",
    "\n",
    "\n",
    "\n",
    "#fitting the model\n",
    "model_4 = multivariate_ols(a_train, b_train, 0.01, 100000)\n",
    "#printing the coeffs\n",
    "model_4"
   ]
  },
  {
   "cell_type": "code",
   "execution_count": 32,
   "metadata": {
    "collapsed": false
   },
   "outputs": [
    {
     "data": {
      "text/plain": [
       "14.141956438528057"
      ]
     },
     "execution_count": 32,
     "metadata": {},
     "output_type": "execute_result"
    }
   ],
   "source": [
    "#Storing predicted values in a list\n",
    "y_testset = []\n",
    "for i in range(len(a_test)):\n",
    "    y_testset.append((model_4[0] \n",
    "                       + model_4[1][0]*a_test[i][0] \n",
    "                       + model_4[1][1]*a_test[i][1]\n",
    "                       + model_4[1][2]*a_test[i][2]\n",
    "                       + model_4[1][3]*a_test[i][3]\n",
    "                       + model_4[1][4]*a_test[i][4]\n",
    "                       + model_4[1][5]*a_test[i][5]\n",
    "                       + model_4[1][6]*a_test[i][6]\n",
    "                       + model_4[1][7]*a_test[i][7]\n",
    "                       + model_4[1][8]*a_test[i][8]\n",
    "                       + model_4[1][9]*a_test[i][9])[0])\n",
    "                         \n",
    "#store the predicted values for the test set into a list    \n",
    "y_trainset = []\n",
    "for i in range(len(a_train)):\n",
    "    y_trainset.append((model_4[0] \n",
    "                       + model_4[1][0]*a_train[i][0] \n",
    "                       + model_4[1][1]*a_train[i][1]\n",
    "                       + model_4[1][2]*a_train[i][2]\n",
    "                       + model_4[1][3]*a_train[i][3]\n",
    "                       + model_4[1][4]*a_train[i][4]\n",
    "                       + model_4[1][5]*a_train[i][5]\n",
    "                       + model_4[1][6]*a_train[i][6]\n",
    "                       + model_4[1][7]*a_train[i][7]\n",
    "                       + model_4[1][8]*a_train[i][8]\n",
    "                       + model_4[1][9]*a_train[i][9])[0])\n",
    "\n",
    "#Computing train RMSE\n",
    "compute_rmse(y_trainset, b_train)"
   ]
  },
  {
   "cell_type": "code",
   "execution_count": 33,
   "metadata": {
    "collapsed": false
   },
   "outputs": [
    {
     "data": {
      "text/plain": [
       "14.662275665281701"
      ]
     },
     "execution_count": 33,
     "metadata": {},
     "output_type": "execute_result"
    }
   ],
   "source": [
    "#Computing test RMSE\n",
    "compute_rmse(y_testset, b_test)"
   ]
  },
  {
   "cell_type": "markdown",
   "metadata": {},
   "source": [
    "Observation:\n",
    "We find from the above code that the RMSE value for train and test is same.\n",
    "But, in comparison to test data, we are see that we have a higher RMSE for train data set which suggest correct behavior of the model."
   ]
  },
  {
   "cell_type": "markdown",
   "metadata": {},
   "source": [
    "### 4.3 Ridge regularization\n",
    "Incorporate L2 (Ridge) regularization into your multivariate_ols regression. Write a new version of your gradient descent algorithm that includes a regularization term \"lambda\" to penalize excessive complexity. \n",
    "\n",
    "Use your regularized regression to re-fit the model from 3.2 above on your training data. Try this for several different values of lambda, and report your RMSE for each lambda separately for your training and testing data. How do these numbers compare to each other, to the RMSE from 4.2,  to the RMSE from 2.3, and to the RMSE from nearest neighbors?\n",
    "\n",
    "Go brag to your friends about how you just implemented ridge-regularized multivariate regression using gradient descent optimization, from scratch. If you still have friends."
   ]
  },
  {
   "cell_type": "code",
   "execution_count": 34,
   "metadata": {
    "collapsed": false
   },
   "outputs": [],
   "source": [
    "# Your code here\n",
    "import time\n",
    "def ridge_multivariate_ols(xvalue_matrix, yvalues, R, L, MaxIterations):\n",
    "    start_time = time.time()\n",
    "    x = xvalue_matrix\n",
    "    #Calculating length of target vector\n",
    "    m = len(yvalues)\n",
    "    #calculating length of the output variable\n",
    "    n = len(x.T)\n",
    "    \n",
    "    #starting off coefficients vector with all 10 values\n",
    "    coeff = np.array([10]*n)\n",
    "    #Converting to a matrix\n",
    "    coeff = coeff.reshape(-1,1)\n",
    "    \n",
    "    #transposing the matrix of predictors\n",
    "    xTrans = x.transpose()\n",
    "    \n",
    "    #Converting the vector of traget to a matrix\n",
    "    y = yvalues.values.reshape(-1,1)\n",
    "    #the product of predictors and coefficient matrix gives the predicted values\n",
    "    yhat = np.dot(x,coeff)\n",
    "    #Calculating error\n",
    "    err = yhat - y\n",
    "    \n",
    "    #finding sum of squared error(cost) from the error matrix obtained above\n",
    "    err2 = np.sum(err**2)\n",
    "    \n",
    "    #setting converged to False as default\n",
    "    converged=False\n",
    "    iteration=0\n",
    "    while not converged:\n",
    "        #Calculating gradient\n",
    "        gradient = np.dot(xTrans,err)/m\n",
    "        \n",
    "        #Calculating new coefficient values with learning rate and gradient\n",
    "        coeff = coeff - R*(gradient+ (L/m)*coeff)\n",
    "        #Updating cost value with new coefficient values\n",
    "        yhat = np.dot(x,coeff)\n",
    "        err=yhat-y\n",
    "        cost = np.sum(err**2)\n",
    "        \n",
    "        #Check if we have reached the convergence condition\n",
    "        if(abs(cost-err2)<=0.0001):\n",
    "            print(\"Converged after iteration: %s\"%iteration)\n",
    "            converged = True\n",
    "        else:\n",
    "            err2=cost\n",
    "        #condition for max number of iterations        \n",
    "        if iteration==MaxIterations:\n",
    "            print(\"Max Iterations Reached\")\n",
    "            converged = True\n",
    "        iteration+=1\n",
    "    print (\"Time taken: \" + str(round(time.time() - start_time,2)) + \" seconds\")\n",
    "        \n",
    "    return coeff[0], coeff[1:]"
   ]
  },
  {
   "cell_type": "code",
   "execution_count": 35,
   "metadata": {
    "collapsed": true
   },
   "outputs": [],
   "source": [
    "x_matrix = np.ones((506, 11, ))\n",
    "\n",
    "x_matrix[:,1:2] = standardize(new_boston_df[\"RM\"]).reshape(506,1)\n",
    "x_matrix[:,2:3] = standardize(new_boston_df[\"CRIM\"]).reshape(506,1)\n",
    "x_matrix[:,3:4] = standardize(new_boston_df[\"DIS\"]).reshape(506,1)\n",
    "x_matrix[:,4:5] = standardize(new_boston_df[\"RAD\"]).reshape(506,1)\n",
    "x_matrix[:,5:6] = standardize(new_boston_df[\"TAX\"]).reshape(506,1)\n",
    "x_matrix[:,6:7] = standardize(new_boston_df[\"CRIM*RM\"]).reshape(506,1)\n",
    "x_matrix[:,7:8] = standardize(new_boston_df[\"CRIM*DIS\"]).reshape(506,1)\n",
    "x_matrix[:,8:9] = standardize(new_boston_df[\"DIS*RAD\"]).reshape(506,1)\n",
    "x_matrix[:,9:10] = standardize(new_boston_df[\"RAD*TAX\"]).reshape(506,1)\n",
    "x_matrix[:,10:11] = standardize(new_boston_df[\"RM*TAX\"]).reshape(506,1)\n",
    "\n",
    "y = new_boston_df[\"MEDV\"]\n",
    "\n",
    "#splitting into test and train\n",
    "a_train, a_test, b_train, b_test = train_test_split(x_matrix, y, test_size=0.34, random_state = 5)"
   ]
  },
  {
   "cell_type": "code",
   "execution_count": 38,
   "metadata": {
    "collapsed": false,
    "scrolled": true
   },
   "outputs": [
    {
     "name": "stdout",
     "output_type": "stream",
     "text": [
      "Converged after iteration: 125898\n",
      "Time taken: 3.0 seconds\n",
      "RMSE for L = 0.001\n",
      "15.0921331965\n",
      "\n",
      "\n",
      "Converged after iteration: 126996\n",
      "Time taken: 3.12 seconds\n",
      "RMSE for L = 0.005\n",
      "15.0690483398\n",
      "\n",
      "\n",
      "Converged after iteration: 142558\n",
      "Time taken: 3.38 seconds\n",
      "RMSE for L = 0.1\n",
      "14.4253674628\n",
      "\n",
      "\n",
      "Converged after iteration: 122302\n",
      "Time taken: 3.52 seconds\n",
      "RMSE for L = 0.5\n",
      "13.1407648854\n",
      "\n",
      "\n",
      "Converged after iteration: 108731\n",
      "Time taken: 3.25 seconds\n",
      "RMSE for L = 0.7\n",
      "12.972153656\n",
      "\n",
      "\n",
      "Converged after iteration: 92452\n",
      "Time taken: 3.5 seconds\n",
      "RMSE for L = 1\n",
      "12.8213605512\n",
      "\n",
      "\n",
      "Converged after iteration: 47160\n",
      "Time taken: 1.04 seconds\n",
      "RMSE for L = 3\n",
      "11.9299772298\n",
      "\n",
      "\n",
      "Converged after iteration: 33131\n",
      "Time taken: 1.06 seconds\n",
      "RMSE for L = 5\n",
      "11.3051715741\n",
      "\n",
      "\n",
      "Converged after iteration: 25839\n",
      "Time taken: 0.89 seconds\n",
      "RMSE for L = 7\n",
      "10.9214671671\n",
      "\n",
      "\n",
      "Converged after iteration: 19438\n",
      "Time taken: 1.07 seconds\n",
      "RMSE for L = 10\n",
      "10.5686795858\n",
      "\n",
      "\n",
      "Converged after iteration: 15496\n",
      "Time taken: 0.91 seconds\n",
      "RMSE for L = 13\n",
      "10.3411633872\n",
      "\n",
      "\n",
      "Converged after iteration: 13591\n",
      "Time taken: 0.6 seconds\n",
      "RMSE for L = 15\n",
      "10.2250196417\n",
      "\n",
      "\n",
      "Converged after iteration: 10207\n",
      "Time taken: 0.47 seconds\n",
      "RMSE for L = 20\n",
      "10.0008512223\n",
      "\n",
      "\n"
     ]
    }
   ],
   "source": [
    "L = [0.001,0.005,0.1,0.5,0.7,1,3,5,7,10,13,15,20]\n",
    "\n",
    "for l in L:\n",
    "    model_4 = ridge_multivariate_ols(a_train, b_train, 0.01, l, 1000000)\n",
    "\n",
    "    y_pred = []\n",
    "    for i in range(len(a_test)):\n",
    "        y_pred.append((model_4[0] \n",
    "                       + model_4[1][0]*a_test[i][0] \n",
    "                       + model_4[1][1]*a_test[i][1]\n",
    "                       + model_4[1][2]*a_test[i][2]\n",
    "                       + model_4[1][3]*a_test[i][3]\n",
    "                       + model_4[1][4]*a_test[i][4]\n",
    "                       + model_4[1][5]*a_test[i][5]\n",
    "                       + model_4[1][6]*a_test[i][6]\n",
    "                       + model_4[1][7]*a_test[i][7]\n",
    "                       + model_4[1][8]*a_test[i][8]\n",
    "                       + model_4[1][9]*a_test[i][9])[0])\n",
    "    y_actual = []\n",
    "    for i in b_test.index:\n",
    "        y_actual.append(b_test[i])\n",
    "    \n",
    "    print (\"RMSE for L = %s\"%l)\n",
    "    print (compute_rmse(y_pred, y_actual))\n",
    "    print (\"\\n\")"
   ]
  },
  {
   "cell_type": "raw",
   "metadata": {},
   "source": [
    "Observation:\n",
    "So we see that in case of ridge regression as lambda incraeses, the RMSE value declines.\n",
    "We see that greater lambda values require more number of iterations and as the lambda value declines the number of iterations also decline.\n",
    "Hence, we find that greater penalty function gives better fit model as it discards insignificant predictors from  model\n",
    "We see that the RMSE value stabilizes at around 10 and then it should rise again if lambda increases."
   ]
  },
  {
   "cell_type": "markdown",
   "metadata": {},
   "source": [
    "### Extra Credit 2: Cross-validate lambda\n",
    "\n",
    "Use k-fold cross-validation to select the optimal value of lambda. Report the average RMSE across all training sets, and the average RMSE across all testing sets. How do these numbers compare to each other, to the RMSE from your previous efforts?  Finally, create a scatter plot that shows RMSE as a function of lambda."
   ]
  },
  {
   "cell_type": "code",
   "execution_count": null,
   "metadata": {
    "collapsed": false
   },
   "outputs": [],
   "source": [
    "# Your code here"
   ]
  },
  {
   "cell_type": "markdown",
   "metadata": {},
   "source": [
    "*Discuss your results here*"
   ]
  },
  {
   "cell_type": "markdown",
   "metadata": {},
   "source": [
    "### (Showoff) Extra Credit 3: Lambda and coefficients\n",
    "\n",
    "If you're feeling extra-special, create a parameter plot that shows how the different coefficient estimates change as a function of lambda. To make this graph intelligible, only include the *K* original F_s features in this plot"
   ]
  },
  {
   "cell_type": "code",
   "execution_count": null,
   "metadata": {
    "collapsed": false
   },
   "outputs": [],
   "source": [
    "# Your code here"
   ]
  },
  {
   "cell_type": "markdown",
   "metadata": {},
   "source": [
    "*Discuss your results here*"
   ]
  }
 ],
 "metadata": {
  "anaconda-cloud": {},
  "kernelspec": {
   "display_name": "Python [conda root]",
   "language": "python",
   "name": "conda-root-py"
  },
  "language_info": {
   "codemirror_mode": {
    "name": "ipython",
    "version": 3
   },
   "file_extension": ".py",
   "mimetype": "text/x-python",
   "name": "python",
   "nbconvert_exporter": "python",
   "pygments_lexer": "ipython3",
   "version": "3.5.2"
  }
 },
 "nbformat": 4,
 "nbformat_minor": 0
}
